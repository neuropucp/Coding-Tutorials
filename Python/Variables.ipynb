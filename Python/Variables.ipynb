{
 "nbformat": 4,
 "nbformat_minor": 0,
 "metadata": {
  "colab": {
   "provenance": [],
   "authorship_tag": "ABX9TyN1Vu0eVDdrzlOZIjyjNCcP"
  },
  "kernelspec": {
   "name": "python3",
   "display_name": "Python 3"
  },
  "language_info": {
   "name": "python"
  }
 },
 "cells": [
  {
   "cell_type": "markdown",
   "source": [
    "# La calculadora y los valores\n",
    "\n"
   ],
   "metadata": {
    "id": "l8uygQdD37nK"
   }
  },
  {
   "cell_type": "markdown",
   "source": [
    "Una de las cosas más simples de python y que, de momento, nos ayudará a entender su funcionamiento, es la capacidad para poder sumar valores como una calculadora.\n",
    "\n",
    "Y... ¡Es tan simple como eso! Es un poco extraño que al explicarlo formalmente suene más difícil de lo que es, pero intentemos sumar dos valores. Tan simple como 2+2 y presionar alt+enter para hacer funcionar el código."
   ],
   "metadata": {
    "id": "khLPr4xag9-w"
   }
  },
  {
   "cell_type": "code",
   "source": [
    "2 + 2"
   ],
   "metadata": {
    "colab": {
     "base_uri": "https://localhost:8080/"
    },
    "id": "kdQo9pjUhb7K",
    "executionInfo": {
     "status": "ok",
     "timestamp": 1725378016907,
     "user_tz": 300,
     "elapsed": 422,
     "user": {
      "displayName": "Daniel Arturo Falcon Quintana",
      "userId": "17570882179993429648"
     }
    },
    "outputId": "03068d44-9d6a-4ab2-e630-879a0b4c2836"
   },
   "execution_count": null,
   "outputs": [
    {
     "output_type": "execute_result",
     "data": {
      "text/plain": [
       "4"
      ]
     },
     "metadata": {},
     "execution_count": 1
    }
   ]
  },
  {
   "cell_type": "markdown",
   "source": [
    "¡Bien hecho! Puedes sumar cualquier valor con el símbolo \"+\", usar el \"*\" para multiplicar \"/\" para dividir y \"**\" para los exponentes.\n",
    "\n",
    "Algo en lo que nos ayuda la interface de Colab es en mostrarnos los resultados con solo activar el código. En otras interfaces, tendremos que explícitamente decirle a python que imprima el resultado de la operación o el resultado del código (en este caso, lo llamaremos Output).\n",
    "\n",
    "Esto se realiza mediante el comando \"print\". Intenemos escribir print(2+2) o cualquier operación dentro de los paréntesis."
   ],
   "metadata": {
    "id": "cxxMCchIjPxP"
   }
  },
  {
   "cell_type": "code",
   "source": [
    "print(2 + 2)"
   ],
   "metadata": {
    "colab": {
     "base_uri": "https://localhost:8080/"
    },
    "id": "dMufIDLLhc2w",
    "executionInfo": {
     "status": "ok",
     "timestamp": 1721770969543,
     "user_tz": 300,
     "elapsed": 321,
     "user": {
      "displayName": "Daniel Arturo Falcon Quintana",
      "userId": "17570882179993429648"
     }
    },
    "outputId": "af0fad38-6779-46ec-83cc-49759181bccd"
   },
   "execution_count": null,
   "outputs": [
    {
     "output_type": "stream",
     "name": "stdout",
     "text": [
      "4\n"
     ]
    }
   ]
  },
  {
   "cell_type": "markdown",
   "source": [
    "¡Muy bien!\n",
    "\n",
    "...\n",
    "\n",
    ". . .\n",
    "\n",
    "Pero . . .\n",
    "\n",
    "*¿No es el mismo output?* ... 😧\n",
    "\n",
    ".  .  .\n",
    "\n",
    "**¡Exacto**!\n",
    "\n",
    "Es una diferencia mínima, pero que tarde o temprano será crucial de entender.\n",
    "\n",
    "Al escribir \"2+2\" sólo estamos diciéndole a python que calcule la suma, pero no que *imprima* el valor del **output**.\n",
    "\n",
    "En este caso, como mencionamos, Colab nos ayuda a darnos el output si ejecutamos el código con alt+enter. Sin embargo, en otras interfaces o casos, es útil saber que si queremos el output explícitamente tendremos que decirle a python que nos lo dé con el comando print()"
   ],
   "metadata": {
    "id": "9eXHXjwqjSxH"
   }
  },
  {
   "cell_type": "markdown",
   "source": [
    "# Variables\n",
    "\n",
    "Ahora que hemos utilizado python como una calculadora, podemos dar un paso más y adentrarnos en el mundo de las variables.\n",
    "\n",
    "\n",
    "Seguramente ya deben de tener la noción de qué es una variable, pero quizá esté bien una que otra refrescada ¿Cierto?\n",
    "\n",
    "Hmmm...\n",
    "\n",
    "Sin embargo, cuando nos preguntamos con cosas tan obvias, podemos darnos cuenta de que también parecen ser las más complicadas.\n",
    "\n",
    "*¿Qué es una variable?*\n",
    "\n",
    "En python, una \"variable\" puede entenderse como un nombre. De hecho, el verbo que se usa para referirnos a la acción básica que se realiza con las variables es \"crear\" o \"declarar\".\n",
    "\n",
    "Entonces, podemos \"crear\" o \"declarar\" variables tal y como si estuviésemos colocándole un nombre a las *cosas*. En este caso, a aquello al que le colocaremos nombre serán los valores.\n",
    "\n",
    "Por ejemplo, podemos colocarle un nombre a la suma de \"2+2\". Intentemos colocarle el nombre de \"número\" con el siguiente comando:\n",
    "\n",
    "número=2+2"
   ],
   "metadata": {
    "id": "CZDkcUn6lB_-"
   }
  },
  {
   "cell_type": "code",
   "source": [
    "número = 2 + 2"
   ],
   "metadata": {
    "id": "pdzh3bOdoPFR"
   },
   "execution_count": null,
   "outputs": []
  },
  {
   "cell_type": "markdown",
   "source": [
    "¡Excelente!\n",
    "\n",
    "Pero...\n",
    "\n",
    "**¡¡¡No pasó nada!!!**\n",
    "\n",
    "Bueno, sí que pasó. Python ha nombrado el valor resultado de \"2+2\" como \"número\". Lo que sucede es que sólo hemos pedido que lo nombre, no que nos dé el **output**, no está realizando nada más.\n",
    "\n",
    "Probemos ahora con el siguiente comando:\n",
    "print(número)"
   ],
   "metadata": {
    "id": "ZJ8PcTaRocKR"
   }
  },
  {
   "cell_type": "code",
   "source": [
    "print(número)"
   ],
   "metadata": {
    "colab": {
     "base_uri": "https://localhost:8080/"
    },
    "id": "Z9VBm8JXovc0",
    "executionInfo": {
     "status": "ok",
     "timestamp": 1721772486718,
     "user_tz": 300,
     "elapsed": 302,
     "user": {
      "displayName": "Daniel Arturo Falcon Quintana",
      "userId": "17570882179993429648"
     }
    },
    "outputId": "654be5d2-edb1-4848-bd59-d45ddb5f4586"
   },
   "execution_count": null,
   "outputs": [
    {
     "output_type": "stream",
     "name": "stdout",
     "text": [
      "4\n"
     ]
    }
   ]
  },
  {
   "cell_type": "markdown",
   "source": [
    "¡Ajá!\n",
    "\n",
    "Ahora sí que está dando un resultado.\n",
    "\n",
    "Esto puede parecer bastante sencillo, pero dentro del proceso hemos hecho uso de las nociones de variables y valores. Hemos utilizado el nombre (variable) para llamar al valor asociado."
   ],
   "metadata": {
    "id": "3Fr6YypcozmZ"
   }
  },
  {
   "cell_type": "markdown",
   "source": [
    "# Objetos\n",
    "\n",
    "En Python, podríamos decir que todo es un objeto.\n",
    "\n",
    "¿Recuerdan cómo entendimos las variables como \"nombres\"? Este ejercicio sólo funciona si es que podemos nombrar *algo*. En este caso, el *algo* es un valor (o suma de valores), y como objeto tiene sus propias propiedades."
   ],
   "metadata": {
    "id": "VaCo9_Lte9RI"
   }
  },
  {
   "cell_type": "markdown",
   "source": [
    "Para explicar ello podemos pasar a un siguiente ejercicio.\n",
    "\n",
    "¿Cómo hago para crear o declarar una variable que no sea un número?\n",
    "\n",
    "Es decir, para ponerle nombre a un valor que no es un número, una suma u operación matemática.\n",
    "\n",
    "Bueno, la respuesta parecer ser obvia ¿No? sólo nombro a la variable y especifico su contenido. Por ejemplo:\n",
    "\n",
    "Hello = Hello world!"
   ],
   "metadata": {
    "id": "LtmmluyH5PN6"
   }
  },
  {
   "cell_type": "code",
   "source": [
    "Hello = Hello world!"
   ],
   "metadata": {
    "colab": {
     "base_uri": "https://localhost:8080/",
     "height": 108
    },
    "id": "3X79VcJNpmU1",
    "executionInfo": {
     "status": "error",
     "timestamp": 1721772704466,
     "user_tz": 300,
     "elapsed": 323,
     "user": {
      "displayName": "Daniel Arturo Falcon Quintana",
      "userId": "17570882179993429648"
     }
    },
    "outputId": "d2c1bbfe-ef68-4f4d-fe9d-f93b0f8ece85"
   },
   "execution_count": null,
   "outputs": [
    {
     "output_type": "error",
     "ename": "SyntaxError",
     "evalue": "invalid syntax (<ipython-input-9-752b924fc7e5>, line 1)",
     "traceback": [
      "\u001b[0;36m  File \u001b[0;32m\"<ipython-input-9-752b924fc7e5>\"\u001b[0;36m, line \u001b[0;32m1\u001b[0m\n\u001b[0;31m    Hello = Hello world!\u001b[0m\n\u001b[0m                  ^\u001b[0m\n\u001b[0;31mSyntaxError\u001b[0m\u001b[0;31m:\u001b[0m invalid syntax\n"
     ]
    }
   ]
  },
  {
   "cell_type": "markdown",
   "source": [
    "¡Hey! ¿Qué sucedió? (ㅠ﹏ㅠ)\n",
    "\n",
    "Parece que python ha detectado un error. \"Invalid Syntax\" (sintaxis, sintaxis... ¿Algo similar habremos visto en las clases de lingüística?)\n",
    "\n",
    "En este caso, python no sabe qué tipo de objeto es *Hello world!* porque no está en comillas.\n",
    "\n",
    "¿Por qué? Bueno, eso se debe a los tipos de objetos que puede procesar python de manera nativa. Si colocamos *Hello world!* entre comillas, python sabrá que el objeto es un texto o una **string** y no un número.\n",
    "\n",
    "Probemos colocándole comillas a *Hello world!* y luego ejecutando el comando print para ver el output."
   ],
   "metadata": {
    "id": "7dmVVNCrpsij"
   }
  },
  {
   "cell_type": "code",
   "source": [
    "Hello = \"Hello world!\"\n",
    "\n",
    "print(Hello)"
   ],
   "metadata": {
    "colab": {
     "base_uri": "https://localhost:8080/"
    },
    "id": "-Zi8T5Joqbe3",
    "executionInfo": {
     "status": "ok",
     "timestamp": 1721772959635,
     "user_tz": 300,
     "elapsed": 322,
     "user": {
      "displayName": "Daniel Arturo Falcon Quintana",
      "userId": "17570882179993429648"
     }
    },
    "outputId": "b29859f2-43af-414e-b525-e6e08864d93f"
   },
   "execution_count": null,
   "outputs": [
    {
     "output_type": "stream",
     "name": "stdout",
     "text": [
      "Hello world!\n"
     ]
    }
   ]
  },
  {
   "cell_type": "markdown",
   "source": [
    "¡Muy bien! Ahora sí que funciona.\n",
    "\n",
    "Para python, los números y los textos son objetos distintos. Así, la información que contienen dichos objetos (los valores) tiene propiedades distintas (¿Podría sumar 2 + una palabra abstracta?).\n",
    "\n",
    "Pensemos en cuando queremos abrir una canción con Word... ¡No se puede! Porque word sólo sirve para textos. Una canción no es un texto... ¿Verdad?\n",
    "\n",
    "Eso nos lleva a la pregunta ¿Qué tipos de objetos cree que existe python? ¿Por qué son diferentes?\n",
    "\n",
    "Bueno, bueno... podemos comenzar ayudándonos del comando type()\n",
    "\n",
    "Este comando sirve para que python nos diga el tipo de la variable que especificamos dentro de los paréntesis.\n",
    "\n",
    "Por ahora tenemos dos variables: **número** y **Hello**\n",
    "\n",
    "Podemos saber el tipo de cada una con type(número) o type(Hello) (una a la vez. Si queremos tener las dos ¿podríamos usar el comando print() en cada una...?)"
   ],
   "metadata": {
    "id": "vsz51-urqpHx"
   }
  },
  {
   "cell_type": "code",
   "source": [
    "print(type(número))\n",
    "print(type(Hello))"
   ],
   "metadata": {
    "colab": {
     "base_uri": "https://localhost:8080/"
    },
    "id": "_nKzLFcdsTwJ",
    "executionInfo": {
     "status": "ok",
     "timestamp": 1721773443987,
     "user_tz": 300,
     "elapsed": 287,
     "user": {
      "displayName": "Daniel Arturo Falcon Quintana",
      "userId": "17570882179993429648"
     }
    },
    "outputId": "15e46eea-8357-4b91-95c2-330928c0959d"
   },
   "execution_count": null,
   "outputs": [
    {
     "output_type": "stream",
     "name": "stdout",
     "text": [
      "<class 'int'>\n",
      "<class 'str'>\n"
     ]
    }
   ]
  },
  {
   "cell_type": "markdown",
   "source": [
    "Genial. Ahora nos están hablando de \"int\" y \"str\"\n",
    "\n",
    "¿Inteligencia y fuerza?\n",
    "\n",
    "**¡¡¡No!!!** ୧(๑•̀ᗝ•́)૭\n",
    "\n",
    "Integers y strings.\n",
    "\n",
    "Los strings son textos, como \"Hello world!\".\n",
    "\n",
    "Los integers son números enteros, como el resultado de 2+2 (4)."
   ],
   "metadata": {
    "id": "Zw4_SLMHszPD"
   }
  },
  {
   "cell_type": "markdown",
   "source": [
    "#Tipos de Variables/Objetos.\n",
    "\n",
    "¿Qué tipos de variables u objetos hay?\n",
    "\n",
    "Bueno... ¿Qué tipos de objetos hay en el mundo? ¡Pues muchísimos! No podríamos enumerar los tipos de variables de que hay dentro del mundo de python, pero sí podemos tener una noción de los tipos más básicos: int, float, str y bool.\n",
    "\n",
    "Los float son números también, pero no enteros, como 4.5 o 5.4.\n",
    "\n",
    "Los bool son variables dicotómicas: True or False. Un bool sólo puede tomar esos dos valores, aunque, para algunas operaciones, python considera el True como \"1\" y el False como \"0\" (¿Quizá si sumamos dos True o un False + True?)\n",
    "\n"
   ],
   "metadata": {
    "id": "mTeVsGl23NDq"
   }
  },
  {
   "cell_type": "markdown",
   "source": [
    "**En resumen:**\n",
    "\n",
    "*   Objeto: Una \"cosa\" o \"elemento\" en python. Se dice que en python todo es un\n",
    "*   Valor: La información que contiene un objeto (¿Qué número es? ¿Qué texto es?)\n",
    "*   Variable: Nombre del objeto o valor.\n",
    "\n",
    "\n",
    "**Tipos de objetos básicos:**\n",
    "\n",
    "*   int: Número entero (9, 99, 9999, 99999999)\n",
    "*   float: Número con decimal (9.9, 9.999, 9.99999)\n",
    "*   str: Serie de texto ('Hello world')\n",
    "*   float: True or False"
   ],
   "metadata": {
    "id": "nwvQmyGhjgag"
   }
  },
  {
   "cell_type": "markdown",
   "source": [
    "**Elaborado por:**\n",
    "\n",
    "> Daniel Falcón."
   ],
   "metadata": {
    "id": "Vrih_oXU6yPr"
   }
  },
  {
   "cell_type": "markdown",
   "source": [
    "# **Basado en:**\n",
    "\n",
    "> https://www.pythonlikeyoumeanit.com/Module2_EssentialsOfPython/Basic_Objects.html\n",
    "\n",
    "> https://www.pythonmorsels.com/pointers/\n",
    ">\n",
    ">"
   ],
   "metadata": {
    "id": "HroDUO0vr-hX"
   }
  }
 ]
}