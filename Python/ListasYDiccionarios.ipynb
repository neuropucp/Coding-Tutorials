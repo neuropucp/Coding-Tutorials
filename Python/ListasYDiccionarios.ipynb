{
 "nbformat": 4,
 "nbformat_minor": 0,
 "metadata": {
  "colab": {
   "provenance": [],
   "authorship_tag": "ABX9TyM7Ck59PCZNuHnJLw/DADUR"
  },
  "kernelspec": {
   "name": "python3",
   "display_name": "Python 3"
  },
  "language_info": {
   "name": "python"
  }
 },
 "cells": [
  {
   "cell_type": "markdown",
   "source": [
    "Ahora que sabemos los tipos de variables y lo básico de python, podemos explorar un nuevo tipo de variable: las listas.\n",
    "\n",
    "Una lista es prácticamente un conjunto de otras variables, pueden ser ints, floats, strings o booleanos.\n",
    "\n",
    "Por ejemplo, intentemos construir una lista de números:\n",
    "\n",
    "`números = [1, 2, 3, 4, 5]`"
   ],
   "metadata": {
    "id": "rEtENO4BgU0N"
   }
  },
  {
   "cell_type": "code",
   "source": [
    "números = [1, 2, 3, 4, 5]\n",
    "print(números)"
   ],
   "metadata": {
    "colab": {
     "base_uri": "https://localhost:8080/"
    },
    "id": "zrdZoOaugxY2",
    "executionInfo": {
     "status": "ok",
     "timestamp": 1726071227764,
     "user_tz": 300,
     "elapsed": 431,
     "user": {
      "displayName": "Daniel Arturo Falcon Quintana",
      "userId": "17570882179993429648"
     }
    },
    "outputId": "bfd66b44-ba0b-45d5-e930-e1f2a007204e"
   },
   "execution_count": null,
   "outputs": [
    {
     "output_type": "stream",
     "name": "stdout",
     "text": [
      "[1, 2, 3, 4, 5]\n"
     ]
    }
   ]
  },
  {
   "cell_type": "markdown",
   "source": [
    "¡Muy bien! También podemos construir una lista de strings.\n",
    "\n",
    "`Series = ['DBZ', 'Naruto', 'One Piece', 'One-Punch Man']`"
   ],
   "metadata": {
    "id": "yqACScMOg-Fp"
   }
  },
  {
   "cell_type": "code",
   "source": [
    "Series = [\"DBZ\", \"Naruto\", \"One Piece\", \"One-Punch Man\"]\n",
    "print(Series)"
   ],
   "metadata": {
    "colab": {
     "base_uri": "https://localhost:8080/"
    },
    "id": "RFFBY1oThDgk",
    "executionInfo": {
     "status": "ok",
     "timestamp": 1726071228307,
     "user_tz": 300,
     "elapsed": 27,
     "user": {
      "displayName": "Daniel Arturo Falcon Quintana",
      "userId": "17570882179993429648"
     }
    },
    "outputId": "f0694886-1173-4c65-e982-092b0c5d1eb6"
   },
   "execution_count": null,
   "outputs": [
    {
     "output_type": "stream",
     "name": "stdout",
     "text": [
      "['DBZ', 'Naruto', 'One Piece', 'One-Punch Man']\n"
     ]
    }
   ]
  },
  {
   "cell_type": "markdown",
   "source": [
    "También es muy útil saber que podemos construir listas de listas.\n",
    "\n",
    "Por ejemplo, podemos construir una lista general en donde la primera lista son las series de anime y la segunda lista son personajes de Marvel:\n",
    "\n",
    "```\n",
    "Series_y_Marvel = [['DBZ', 'Naruto', 'One Piece', 'One Punch Man'],\n",
    "['IronMan', 'Hulk', 'Thor', 'Thanos']]\n",
    "```\n",
    "\n",
    "\n",
    "O también podemos hacer referencia a la variable que ya hemos creado:\n",
    "\n",
    "```\n",
    "Series_y_Marvel=[ Series,\n",
    "['IronMan', 'Hulk', 'Thor', 'Thanos']]\n",
    "```\n",
    "\n"
   ],
   "metadata": {
    "id": "kg05JmAihuZc"
   }
  },
  {
   "cell_type": "code",
   "source": [
    "Series_y_Marvel = [\n",
    "    [\"DBZ\", \"Naruto\", \"One Piece\", \"One-Punch Man\"],\n",
    "    [\"IronMan\", \"Hulk\", \"Thor\", \"Thanos\"],\n",
    "]\n",
    "print(Series_y_Marvel)"
   ],
   "metadata": {
    "colab": {
     "base_uri": "https://localhost:8080/"
    },
    "id": "R0k29FLOiCfL",
    "executionInfo": {
     "status": "ok",
     "timestamp": 1726071228308,
     "user_tz": 300,
     "elapsed": 26,
     "user": {
      "displayName": "Daniel Arturo Falcon Quintana",
      "userId": "17570882179993429648"
     }
    },
    "outputId": "1536dea1-65f2-4100-c23e-32e175505d84"
   },
   "execution_count": null,
   "outputs": [
    {
     "output_type": "stream",
     "name": "stdout",
     "text": [
      "[['DBZ', 'Naruto', 'One Piece', 'One-Punch Man'], ['IronMan', 'Hulk', 'Thor', 'Thanos']]\n"
     ]
    }
   ]
  },
  {
   "cell_type": "markdown",
   "source": [
    "¡Muy bien!\n",
    "\n",
    "Ahora que sabemos crear listas, podemos explorar cómo seleccionar elementos dentro de ellas.\n",
    "\n",
    "Para esto, podemos indicar el número de orden del elemento entre corchetes al lado de la lista.\n",
    "\n",
    "Por ejemplo, si colocamos `Series[1]`, tendría que darnos un valor...\n",
    "\n",
    "¡Probemos!"
   ],
   "metadata": {
    "id": "2qEP7xS7jH7Y"
   }
  },
  {
   "cell_type": "code",
   "source": [
    "Series[1]"
   ],
   "metadata": {
    "colab": {
     "base_uri": "https://localhost:8080/",
     "height": 55
    },
    "id": "oq6D7mRAjhMT",
    "executionInfo": {
     "status": "ok",
     "timestamp": 1726071228308,
     "user_tz": 300,
     "elapsed": 25,
     "user": {
      "displayName": "Daniel Arturo Falcon Quintana",
      "userId": "17570882179993429648"
     }
    },
    "outputId": "a463bfab-d6b8-4ad1-c8ea-d6f1289a1616"
   },
   "execution_count": null,
   "outputs": [
    {
     "output_type": "execute_result",
     "data": {
      "text/plain": [
       "'Naruto'"
      ],
      "application/vnd.google.colaboratory.intrinsic+json": {
       "type": "string"
      }
     },
     "metadata": {},
     "execution_count": 5
    }
   ]
  },
  {
   "cell_type": "markdown",
   "source": [
    "¡Naruto! Pero... ¿No era la primera serie DBZ? ¿Se habrá equivocado Python?\n",
    "\n",
    "Lo que sucede en este caso es que, dentro de python, el orden de elementos siempre comienza en \"0\". Es decir, el 0 es el primer elemento de la lista.\n",
    "\n",
    "Probemos con `Series[0]`"
   ],
   "metadata": {
    "id": "sexg2N7ckbYj"
   }
  },
  {
   "cell_type": "code",
   "source": [
    "Series[0]"
   ],
   "metadata": {
    "colab": {
     "base_uri": "https://localhost:8080/",
     "height": 55
    },
    "id": "kMAjOBhwlARe",
    "executionInfo": {
     "status": "ok",
     "timestamp": 1726071228308,
     "user_tz": 300,
     "elapsed": 24,
     "user": {
      "displayName": "Daniel Arturo Falcon Quintana",
      "userId": "17570882179993429648"
     }
    },
    "outputId": "24be40da-e561-47d8-a721-355ffc4a9a91"
   },
   "execution_count": null,
   "outputs": [
    {
     "output_type": "execute_result",
     "data": {
      "text/plain": [
       "'DBZ'"
      ],
      "application/vnd.google.colaboratory.intrinsic+json": {
       "type": "string"
      }
     },
     "metadata": {},
     "execution_count": 6
    }
   ]
  },
  {
   "cell_type": "markdown",
   "source": [
    "¡Ajá! Entonces el último elemento de esa lista de 4 elementos se señala mediante el `[3]`.\n",
    "\n",
    "¿Cómo podemos hacer para que python nos vuelva una porción de una lista?\n",
    "\n",
    "Es decir, un intervalo, un rango, un corte.\n",
    "\n",
    "Para eso, podemos indicar dentro de los corchetes el intervalo del corte. Por ejemplo, si queremos seleccionar desde el primer hasta el tercer elemento, debemos indicarlo mediante el comando `[0:3]`"
   ],
   "metadata": {
    "id": "cqsSJoR6lDDS"
   }
  },
  {
   "cell_type": "code",
   "source": [
    "Series[0:3]"
   ],
   "metadata": {
    "colab": {
     "base_uri": "https://localhost:8080/"
    },
    "id": "o68NDXyMlWFr",
    "executionInfo": {
     "status": "ok",
     "timestamp": 1726071228308,
     "user_tz": 300,
     "elapsed": 23,
     "user": {
      "displayName": "Daniel Arturo Falcon Quintana",
      "userId": "17570882179993429648"
     }
    },
    "outputId": "01288c1b-35ec-4efd-d589-e8d1947f613d"
   },
   "execution_count": null,
   "outputs": [
    {
     "output_type": "execute_result",
     "data": {
      "text/plain": [
       "['DBZ', 'Naruto', 'One Piece']"
      ]
     },
     "metadata": {},
     "execution_count": 7
    }
   ]
  },
  {
   "cell_type": "markdown",
   "source": [
    "¡Muy bien! ¿Y qué pasa con la lista de listas? ¿Podemos utilizar lo mismo?\n",
    "\n",
    "Pues sí, pero primero hay que tener en cuenta ciertas cosas.\n",
    "\n",
    "La lista de listas, formalmente, contiene sólo dos elementos:\n",
    "**La lista de series de anime** y **la lista de personajes de Marvel**.\n",
    "\n",
    "Si utilizamos `Series_y_Marvel[1]` probablemente obtengamos como output una lista completa. Probemos."
   ],
   "metadata": {
    "id": "Poq86t1pl9l2"
   }
  },
  {
   "cell_type": "code",
   "source": [
    "Series_y_Marvel[1]"
   ],
   "metadata": {
    "colab": {
     "base_uri": "https://localhost:8080/"
    },
    "id": "luokDeBsmbkR",
    "executionInfo": {
     "status": "ok",
     "timestamp": 1726071228308,
     "user_tz": 300,
     "elapsed": 22,
     "user": {
      "displayName": "Daniel Arturo Falcon Quintana",
      "userId": "17570882179993429648"
     }
    },
    "outputId": "7faca106-7314-40cb-b3a1-5ecf48982529"
   },
   "execution_count": null,
   "outputs": [
    {
     "output_type": "execute_result",
     "data": {
      "text/plain": [
       "['IronMan', 'Hulk', 'Thor', 'Thanos']"
      ]
     },
     "metadata": {},
     "execution_count": 8
    }
   ]
  },
  {
   "cell_type": "markdown",
   "source": [
    "Entonces... ¿Cómo hago para seleccionar un elemento dentro de la lista... que se encuentra dentro de una lista?\n",
    "\n",
    "## ¡ @.@ !\n",
    "\n",
    "Bueno, para eso podemos indicarle, mediante un segundo corchete, el elemento que queremos de la lista a la que estamos haciendo alusión.\n",
    "\n",
    "Por ejemplo, puedo decirle a python que, de la primera lista ( `Series_y_Marvel[0]` ) quiero el segundo elemento ( `Series_y_Marvel[0][1]` )\n",
    "\n"
   ],
   "metadata": {
    "id": "Gqh6DtTymeE9"
   }
  },
  {
   "cell_type": "code",
   "source": [
    "Series_y_Marvel[0][1]"
   ],
   "metadata": {
    "colab": {
     "base_uri": "https://localhost:8080/",
     "height": 55
    },
    "id": "2t5BDcunnPK9",
    "executionInfo": {
     "status": "ok",
     "timestamp": 1726071228308,
     "user_tz": 300,
     "elapsed": 21,
     "user": {
      "displayName": "Daniel Arturo Falcon Quintana",
      "userId": "17570882179993429648"
     }
    },
    "outputId": "44362b19-8ad3-4fff-959c-ff28aa8f51a9"
   },
   "execution_count": null,
   "outputs": [
    {
     "output_type": "execute_result",
     "data": {
      "text/plain": [
       "'Naruto'"
      ],
      "application/vnd.google.colaboratory.intrinsic+json": {
       "type": "string"
      }
     },
     "metadata": {},
     "execution_count": 9
    }
   ]
  },
  {
   "cell_type": "markdown",
   "source": [
    "¡Muy bien!\n",
    "\n",
    "De igual forma, puedo decirle que sólo quiero los primeros tres elementos de la primera lista `Series_y_Marvel[0][0:3]`\n"
   ],
   "metadata": {
    "id": "701mUd5tnROh"
   }
  },
  {
   "cell_type": "code",
   "source": [
    "Series_y_Marvel[0][0:3]"
   ],
   "metadata": {
    "colab": {
     "base_uri": "https://localhost:8080/"
    },
    "id": "rYHboCA2nyKV",
    "executionInfo": {
     "status": "ok",
     "timestamp": 1726071228308,
     "user_tz": 300,
     "elapsed": 16,
     "user": {
      "displayName": "Daniel Arturo Falcon Quintana",
      "userId": "17570882179993429648"
     }
    },
    "outputId": "7444a200-fe12-47cb-d1db-6ba3acc6f3b7"
   },
   "execution_count": null,
   "outputs": [
    {
     "output_type": "execute_result",
     "data": {
      "text/plain": [
       "['DBZ', 'Naruto', 'One Piece']"
      ]
     },
     "metadata": {},
     "execution_count": 10
    }
   ]
  },
  {
   "cell_type": "markdown",
   "source": [
    "Excelente. Ahora podemos dar, de momento, terminado nuestro estudio de las listas para pasar a los diccionarios."
   ],
   "metadata": {
    "id": "mRZQluSd9_nH"
   }
  },
  {
   "cell_type": "markdown",
   "source": [
    "# Diccionarios.\n",
    "\n",
    "Así como las listas, los diccionarios son objetos que nos sirven como contenedores de datos.\n",
    "\n",
    "En este caso, los diccionarios contienen otros datos y los organizan en pares. Estos pares se conforman de una 'key' y su respectivo 'value'.\n",
    "\n",
    "Dentro de un diccionaro, no se puede repetir una misma 'key' varias veces. Sin embargo, sí se pueden repetir 'values' para distintas 'keys'.\n",
    "\n",
    "En un ejemplo figurativo, no puedo tener una llave que abra dos puertas distintas a lugares diferentes, pero sí un lugar ('value') al que se puede llegar desde distintas puertas.\n",
    "\n",
    "Probemos creando un diccionario con la lógica carrera:facultad. En este caso, queremos que python entienda que la información que ingresamos es un texto, así que debemos colocarlo entre comillas.\n"
   ],
   "metadata": {
    "id": "b5XMpRXI-KoX"
   }
  },
  {
   "cell_type": "code",
   "source": [
    "carreras = {\n",
    "    \"Sociología\": \"Sociales\",\n",
    "    \"Arqueología\": \"Humanidades\",\n",
    "    \"Mecatrónica\": \"Ingeniería\",\n",
    "}\n",
    "carreras"
   ],
   "metadata": {
    "id": "-SvL2zjoE029",
    "colab": {
     "base_uri": "https://localhost:8080/"
    },
    "executionInfo": {
     "status": "ok",
     "timestamp": 1726071228308,
     "user_tz": 300,
     "elapsed": 15,
     "user": {
      "displayName": "Daniel Arturo Falcon Quintana",
      "userId": "17570882179993429648"
     }
    },
    "outputId": "9f1f6d3f-5b69-46b4-b043-7333c3903e8c"
   },
   "execution_count": null,
   "outputs": [
    {
     "output_type": "execute_result",
     "data": {
      "text/plain": [
       "{'Sociología': 'Sociales',\n",
       " 'Arqueología': 'Humanidades',\n",
       " 'Mecatrónica': 'Ingeniería'}"
      ]
     },
     "metadata": {},
     "execution_count": 11
    }
   ]
  },
  {
   "cell_type": "markdown",
   "source": [
    "Muy bien. Ahora, para acceder a la información de nuestro diccionario, podemos utilizar una sintaxis similar a la de las listas:\n",
    "\n",
    "\n",
    "```\n",
    "diccionario[key]\n",
    "```\n",
    "\n"
   ],
   "metadata": {
    "id": "_UvPCAeUJ4uQ"
   }
  },
  {
   "cell_type": "code",
   "source": [
    "carreras[\"Arqueología\"]"
   ],
   "metadata": {
    "colab": {
     "base_uri": "https://localhost:8080/",
     "height": 55
    },
    "id": "O4E0IgnDJhnq",
    "executionInfo": {
     "status": "ok",
     "timestamp": 1726071228309,
     "user_tz": 300,
     "elapsed": 16,
     "user": {
      "displayName": "Daniel Arturo Falcon Quintana",
      "userId": "17570882179993429648"
     }
    },
    "outputId": "883145b4-82bf-4ad2-835e-8f0d9fea0c34"
   },
   "execution_count": null,
   "outputs": [
    {
     "output_type": "execute_result",
     "data": {
      "text/plain": [
       "'Humanidades'"
      ],
      "application/vnd.google.colaboratory.intrinsic+json": {
       "type": "string"
      }
     },
     "metadata": {},
     "execution_count": 12
    }
   ]
  },
  {
   "cell_type": "markdown",
   "source": [
    "Incluso, si nos encontramos con un diccionario nuevo y sólo nos interesan sus keys o los values, podemos utilizar los siguientes comandos para obtener sólo dicha información.\n",
    "\n",
    "\n",
    "\n",
    "```\n",
    "diccionario.keys()\n",
    "```\n",
    "o\n",
    "```\n",
    "diccionario.values()\n",
    "```\n",
    "\n",
    "\n"
   ],
   "metadata": {
    "id": "ZJH--IEuPt0r"
   }
  },
  {
   "cell_type": "code",
   "source": [
    "print(carreras.keys())\n",
    "print(carreras.values())"
   ],
   "metadata": {
    "colab": {
     "base_uri": "https://localhost:8080/"
    },
    "id": "Gdm7y0eDQLK8",
    "executionInfo": {
     "status": "ok",
     "timestamp": 1726071228309,
     "user_tz": 300,
     "elapsed": 15,
     "user": {
      "displayName": "Daniel Arturo Falcon Quintana",
      "userId": "17570882179993429648"
     }
    },
    "outputId": "14b4b895-a29e-4dbb-ab73-965defa37a9a"
   },
   "execution_count": null,
   "outputs": [
    {
     "output_type": "stream",
     "name": "stdout",
     "text": [
      "dict_keys(['Sociología', 'Arqueología', 'Mecatrónica'])\n",
      "dict_values(['Sociales', 'Humanidades', 'Ingeniería'])\n"
     ]
    }
   ]
  },
  {
   "cell_type": "markdown",
   "source": [
    "Los diccionarios son estructuras que tienen muchísimas utilidades. Por ahora, intentemos explorar la posibilidad que nos dan para contener también las listas que hemos ido creando.\n",
    "\n",
    "\n",
    "\n",
    "```\n",
    "Anime_Marvel = { 'Anime': Series, 'Marvel': ['IronMan', 'Hulk', 'Thor', 'Wolverine'] }\n",
    "\n",
    "```\n",
    "\n"
   ],
   "metadata": {
    "id": "pOi08EZtKzIq"
   }
  },
  {
   "cell_type": "code",
   "source": [
    "Anime_Marvel = {\"Anime\": Series, \"Marvel\": [\"IronMan\", \"Hulk\", \"Thor\", \"Wolverine\"]}\n",
    "\n",
    "print(Anime_Marvel)\n",
    "\n",
    "print(Anime_Marvel.keys())\n",
    "print(Anime_Marvel.values())"
   ],
   "metadata": {
    "colab": {
     "base_uri": "https://localhost:8080/"
    },
    "id": "FfmlbwoeMNhU",
    "executionInfo": {
     "status": "ok",
     "timestamp": 1726071228309,
     "user_tz": 300,
     "elapsed": 14,
     "user": {
      "displayName": "Daniel Arturo Falcon Quintana",
      "userId": "17570882179993429648"
     }
    },
    "outputId": "8d7d6e49-b681-46ba-a85d-d019c9cb69eb"
   },
   "execution_count": null,
   "outputs": [
    {
     "output_type": "stream",
     "name": "stdout",
     "text": [
      "{'Anime': ['DBZ', 'Naruto', 'One Piece', 'One-Punch Man'], 'Marvel': ['IronMan', 'Hulk', 'Thor', 'Wolverine']}\n",
      "dict_keys(['Anime', 'Marvel'])\n",
      "dict_values([['DBZ', 'Naruto', 'One Piece', 'One-Punch Man'], ['IronMan', 'Hulk', 'Thor', 'Wolverine']])\n"
     ]
    }
   ]
  },
  {
   "cell_type": "markdown",
   "source": [
    "¡Muy bien! De hecho, podemos ir intuyendo para qué es útil esta función de los diccionarios. Imaginemos que tenemos una columna llamada \"Anime\" y otra \"Marvel\", podríamos armar una tabla con dichos datos ¡Pero aún falta para eso!\n",
    "\n",
    "De momento, hemos aprendido bastante sobre listas y diccionaros, objetos que otras estructuras más complejas usan como elementos principales."
   ],
   "metadata": {
    "id": "0LAQJeJIOGS5"
   }
  },
  {
   "cell_type": "markdown",
   "source": [
    "# **Bonus:**"
   ],
   "metadata": {
    "id": "78NTUHZ8wexJ"
   }
  },
  {
   "cell_type": "markdown",
   "source": [
    "Ya terminando, hay cosas que podemos comentar de toda esta sección:\n",
    "\n",
    "- Dentro de la jerga de documentaciones sobre bases de datos, al \"cortar\" la base de datos o seleccionar ciertos elementos se le llama \"slice\". Si quieren obtener más información, pueden buscar la operación como \"slice python lists\".\n",
    "\n",
    "- Los comandos numéricos que colocamos entre los corchetes tienen ciertos trucos que pueden probar por ustedes mismos. Podemos mencionar unos cuantos.\n",
    "  - Cuando coloco `[:]` como en `Series[:]`, python lo interpretará como que quiero todos los elementos de la lista.\n",
    "  - También puedo colocar números negativos, como en `Series[-1]`. En este caso, python lo interpretará como que se quiere tener el elemento final de la lista.\n",
    "\n",
    "Finalmente, hay ***algo*** que podemos ir ejercitando desde ya y que es muy importante a la hora de analizar bases de datos.\n",
    "\n",
    "Probablemente nos preguntamos ¿Por qué al construir la lista DBZ_Marvel se colocó un espacio entre las listas? De tal manera que quedara visualmente:\n",
    "\n",
    "```\n",
    "Series_y_Marvel = [['DBZ', 'Naruto', 'One Piece', 'One-Punch Man'],\n",
    " ['IronMan', 'Hulk', 'Thor', 'Wolverine']]\n",
    "```\n",
    "\n",
    "Esto es porque, por ejemplo, al decir `Series_y_Marvel[0][1]`, puedo también estarle diciendo a python, en palabras distintas: \"Devuelve del primer elemento `[0]` del eje X, el segundo elemento `[1]` del eje Y\".\n",
    "\n",
    "Quizá esa sea una forma más compleja de interpretarlo. De hecho, en la documentación de bases de datos normalmente encontrarán que se refieren a \"rows\" y \"columns\". Pero no está de más que podamos ir acostumbrándonos a tener una visión geométrica de los datos.\n",
    "\n",
    "\n",
    "\n"
   ],
   "metadata": {
    "id": "3ya4xwS4n33b"
   }
  },
  {
   "cell_type": "code",
   "source": [
    "Series_y_Marvel = [\n",
    "    [\"DBZ\", \"Naruto\", \"One Piece\", \"One-Punch Man\"],\n",
    "    [\"IronMan\", \"Hulk\", \"Thor\", \"Wolverine\"],\n",
    "]\n",
    "\n",
    "Series_y_Marvel[0][1]"
   ],
   "metadata": {
    "colab": {
     "base_uri": "https://localhost:8080/",
     "height": 55
    },
    "id": "OraOInJgxboQ",
    "executionInfo": {
     "status": "ok",
     "timestamp": 1726071228309,
     "user_tz": 300,
     "elapsed": 12,
     "user": {
      "displayName": "Daniel Arturo Falcon Quintana",
      "userId": "17570882179993429648"
     }
    },
    "outputId": "a16c655b-c0ed-41d5-a28d-231a11c9a145"
   },
   "execution_count": null,
   "outputs": [
    {
     "output_type": "execute_result",
     "data": {
      "text/plain": [
       "'Naruto'"
      ],
      "application/vnd.google.colaboratory.intrinsic+json": {
       "type": "string"
      }
     },
     "metadata": {},
     "execution_count": 15
    }
   ]
  },
  {
   "cell_type": "markdown",
   "source": [
    "**Elaborado por:**\n",
    "\n",
    "> Daniel Falcón."
   ],
   "metadata": {
    "id": "ZKcYCvJm7LR9"
   }
  },
  {
   "cell_type": "markdown",
   "source": [
    "# **Basado en:**\n",
    "\n",
    "\n",
    "\n",
    "> https://mode.com/python-tutorial/python-basics\n",
    "\n",
    "> https://www.trytoprogram.com/python-programming/python-dictionary/\n",
    "\n",
    "\n",
    "\n",
    "\n",
    "\n",
    "\n",
    "\n"
   ],
   "metadata": {
    "id": "0hqTApgYsrGR"
   }
  }
 ]
}